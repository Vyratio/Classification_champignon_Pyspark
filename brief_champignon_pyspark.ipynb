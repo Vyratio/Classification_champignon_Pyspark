{
 "cells": [
  {
   "cell_type": "markdown",
   "metadata": {
    "application/vnd.databricks.v1+cell": {
     "cellMetadata": {
      "byteLimit": 2048000,
      "rowLimit": 10000
     },
     "inputWidgets": {},
     "nuid": "96816ed7-b08a-4ca3-abb9-f99880c3535d",
     "showTitle": false,
     "title": ""
    }
   },
   "source": [
    "\n",
    "## Overview\n",
    "\n",
    "This notebook will show you how to create and query a table or DataFrame that you uploaded to DBFS. [DBFS](https://docs.databricks.com/user-guide/dbfs-databricks-file-system.html) is a Databricks File System that allows you to store data for querying inside of Databricks. This notebook assumes that you have a file already inside of DBFS that you would like to read from.\n",
    "\n",
    "This notebook is written in **Python** so the default cell type is Python. However, you can use different languages by using the `%LANGUAGE` syntax. Python, Scala, SQL, and R are all supported."
   ]
  },
  {
   "cell_type": "code",
   "execution_count": 0,
   "metadata": {
    "application/vnd.databricks.v1+cell": {
     "cellMetadata": {
      "byteLimit": 2048000,
      "rowLimit": 10000
     },
     "inputWidgets": {},
     "nuid": "6482be4c-f067-47c9-b0ac-35c938b94601",
     "showTitle": false,
     "title": ""
    }
   },
   "outputs": [],
   "source": [
    "#D'abord télécharger les données en allant dans create table et en chargent les données  dans databricks\n",
    "#On copie les données de la tables afin d'y avoir accés , les voici\n",
    "# File location and type\n",
    "file_location = \"/FileStore/tables/mushrooms.csv\"\n",
    "file_type = \"csv\"\n",
    "\n",
    "# CSV options\n",
    "infer_schema = \"false\"\n",
    "first_row_is_header = \"true\"\n",
    "delimiter = \",\"\n",
    "\n",
    "# The applied options are for CSV files. For other file types, these will be ignored.\n",
    "df = spark.read.format(file_type) \\\n",
    "  .option(\"inferSchema\", infer_schema) \\\n",
    "  .option(\"header\", first_row_is_header) \\\n",
    "  .option(\"sep\", delimiter) \\\n",
    "  .load(file_location)\n",
    "\n",
    "#Si on veut voir nos données ,on peut utiliser\n",
    "# display(df)"
   ]
  },
  {
   "cell_type": "code",
   "execution_count": 0,
   "metadata": {
    "application/vnd.databricks.v1+cell": {
     "cellMetadata": {
      "byteLimit": 2048000,
      "rowLimit": 10000
     },
     "inputWidgets": {},
     "nuid": "abdea2db-210f-42f5-ba6c-d9826806d87c",
     "showTitle": false,
     "title": ""
    }
   },
   "outputs": [],
   "source": []
  },
  {
   "cell_type": "code",
   "execution_count": 0,
   "metadata": {
    "application/vnd.databricks.v1+cell": {
     "cellMetadata": {
      "byteLimit": 2048000,
      "rowLimit": 10000
     },
     "inputWidgets": {},
     "nuid": "db9631f6-bb4a-42ca-8a3c-0d48af932331",
     "showTitle": false,
     "title": ""
    }
   },
   "outputs": [],
   "source": [
    "# With this registered as a temp view, it will only be available to this particular notebook. If you'd like other users to be able to query this table, you can also create a table from the DataFrame.\n",
    "# Once saved, this table will persist across cluster restarts as well as allow various users across different notebooks to query this data.\n",
    "# To do so, choose your table name and uncomment the bottom line.\n",
    "\n",
    "permanent_table_name = \"mushrooms_csv\"\n",
    "\n",
    "# df.write.format(\"parquet\").saveAsTable(permanent_table_name)"
   ]
  },
  {
   "cell_type": "code",
   "execution_count": 0,
   "metadata": {
    "application/vnd.databricks.v1+cell": {
     "cellMetadata": {
      "byteLimit": 2048000,
      "rowLimit": 10000
     },
     "inputWidgets": {},
     "nuid": "732062b0-c43d-4d3d-b28a-06247500b2e8",
     "showTitle": false,
     "title": ""
    }
   },
   "outputs": [],
   "source": [
    "from pyspark.ml.feature import StringIndexer\n",
    "from pyspark.ml.feature import VectorAssembler\n",
    "from pyspark.ml import Pipeline\n",
    "from pyspark.ml.classification import RandomForestClassifier\n",
    "from pyspark.ml.classification import GBTClassifier\n",
    "from pyspark.ml.evaluation import BinaryClassificationEvaluator\n",
    "from pyspark.sql.functions import col\n",
    "\n",
    "#On encode les valeurs\n",
    "\n",
    "# Supposons que \"class\" est la variable cible\n",
    "label = \"class\"\n",
    "\n",
    "# Créer un StringIndexer pour chaque colonne catégorielle\n",
    "categorical_cols = [col_name for col_name, data_type in df.dtypes if data_type == \"string\"]\n",
    "indexers = [StringIndexer(inputCol=col_name, outputCol=col_name+\"_index\").fit(df) for col_name in categorical_cols]\n",
    "\n",
    "# Créer un assembleur de vecteur pour combiner les caractéristiques en une seule colonne\n",
    "feature_cols = [col_name+\"_index\" for col_name in categorical_cols]\n",
    "vector_assembler = VectorAssembler(inputCols=feature_cols, outputCol=\"features\")\n",
    "\n",
    "# Créer un StringIndexer pour la variable cible \"class\"\n",
    "label_indexer = StringIndexer(inputCol=label, outputCol=\"label\")\n",
    "\n",
    "# Créer un pipeline pour préparer les données\n",
    "pipeline = Pipeline(stages=indexers + [vector_assembler, label_indexer])\n",
    "\n",
    "# Adapter le pipeline aux données\n",
    "model = pipeline.fit(df)\n",
    "df_transformed = model.transform(df)\n",
    "\n",
    "# Diviser les données en ensembles d'entraînement et de test\n",
    "train_data, test_data = df_transformed.randomSplit([0.7, 0.3], seed=42)\n",
    "\n",
    "\n",
    "\n"
   ]
  },
  {
   "cell_type": "code",
   "execution_count": 0,
   "metadata": {
    "application/vnd.databricks.v1+cell": {
     "cellMetadata": {
      "byteLimit": 2048000,
      "rowLimit": 10000
     },
     "inputWidgets": {},
     "nuid": "a0bd32d2-389a-4fc4-98ad-5b508aa3197d",
     "showTitle": false,
     "title": ""
    }
   },
   "outputs": [],
   "source": []
  },
  {
   "cell_type": "code",
   "execution_count": 0,
   "metadata": {
    "application/vnd.databricks.v1+cell": {
     "cellMetadata": {
      "byteLimit": 2048000,
      "rowLimit": 10000
     },
     "inputWidgets": {},
     "nuid": "8063ac46-0b2b-4d1c-a40c-a8a2ee34753e",
     "showTitle": false,
     "title": ""
    }
   },
   "outputs": [],
   "source": [
    "\n",
    "#Voici mon premier modèle random forest \n",
    "# Modèle Random Forest\n",
    "rf = RandomForestClassifier(labelCol=\"label\", featuresCol=\"features\", numTrees=100, seed=42)\n",
    "rf_model = rf.fit(train_data)\n",
    "rf_predictions = rf_model.transform(test_data)"
   ]
  },
  {
   "cell_type": "code",
   "execution_count": 0,
   "metadata": {
    "application/vnd.databricks.v1+cell": {
     "cellMetadata": {
      "byteLimit": 2048000,
      "rowLimit": 10000
     },
     "inputWidgets": {},
     "nuid": "6fd544b9-7959-4015-bcf0-2aacc20ef264",
     "showTitle": false,
     "title": ""
    }
   },
   "outputs": [],
   "source": [
    "#Voici mon second modèle GBTClassifier\n",
    "# Modèle GBTClassifier\n",
    "xgb = GBTClassifier(labelCol=\"label\", featuresCol=\"features\", maxIter=10, seed=42)\n",
    "xgb_model = xgb.fit(train_data)\n",
    "xgb_predictions = xgb_model.transform(test_data)\n"
   ]
  },
  {
   "cell_type": "code",
   "execution_count": 0,
   "metadata": {
    "application/vnd.databricks.v1+cell": {
     "cellMetadata": {
      "byteLimit": 2048000,
      "rowLimit": 10000
     },
     "inputWidgets": {},
     "nuid": "ae1799ae-9e92-4176-abfc-b04601d33c65",
     "showTitle": false,
     "title": ""
    }
   },
   "outputs": [
    {
     "output_type": "stream",
     "name": "stdout",
     "output_type": "stream",
     "text": [
      "Aire sous la courbe ROC pour Random Forest: 1.0\nAire sous la courbe ROC pour XGBoost: 1.0\nPrécision pour Random Forest: 1.0\nPrécision pour XGBoost: 1.0\n"
     ]
    }
   ],
   "source": [
    "from pyspark.ml.evaluation import MulticlassClassificationEvaluator\n",
    "\n",
    "# Évaluation des modèles\n",
    "evaluator = BinaryClassificationEvaluator(labelCol=\"label\")\n",
    "\n",
    "rf_auc = evaluator.evaluate(rf_predictions)\n",
    "xgb_auc = evaluator.evaluate(xgb_predictions)\n",
    "print(f\"Aire sous la courbe ROC pour Random Forest: {rf_auc}\")\n",
    "print(f\"Aire sous la courbe ROC pour XGBoost: {xgb_auc}\")\n",
    "\n",
    "\n",
    "# Créez un évaluateur pour la précision\n",
    "evaluator = MulticlassClassificationEvaluator(\n",
    "    labelCol=\"label\",\n",
    "    predictionCol=\"prediction\",\n",
    "    metricName=\"accuracy\"\n",
    ")\n",
    "\n",
    "# Évaluez le modèle Random Forest\n",
    "rf_accuracy = evaluator.evaluate(rf_predictions)\n",
    "print(f\"Précision pour Random Forest: {rf_accuracy}\")\n",
    "\n",
    "# Évaluez le modèle XGBoost\n",
    "xgb_accuracy = evaluator.evaluate(xgb_predictions)\n",
    "print(f\"Précision pour XGBoost: {xgb_accuracy}\")\n"
   ]
  },
  {
   "cell_type": "code",
   "execution_count": 0,
   "metadata": {
    "application/vnd.databricks.v1+cell": {
     "cellMetadata": {
      "byteLimit": 2048000,
      "rowLimit": 10000
     },
     "inputWidgets": {},
     "nuid": "ffa887b8-bb57-414c-a1fc-ff9add52e875",
     "showTitle": false,
     "title": ""
    }
   },
   "outputs": [],
   "source": []
  }
 ],
 "metadata": {
  "application/vnd.databricks.v1+notebook": {
   "dashboards": [],
   "language": "python",
   "notebookMetadata": {
    "mostRecentlyExecutedCommandWithImplicitDF": {
     "commandId": 217452060160202,
     "dataframes": [
      "_sqldf"
     ]
    },
    "pythonIndentUnit": 4
   },
   "notebookName": "2023-09-25 - DBFS Example (2)",
   "widgets": {}
  }
 },
 "nbformat": 4,
 "nbformat_minor": 0
}
